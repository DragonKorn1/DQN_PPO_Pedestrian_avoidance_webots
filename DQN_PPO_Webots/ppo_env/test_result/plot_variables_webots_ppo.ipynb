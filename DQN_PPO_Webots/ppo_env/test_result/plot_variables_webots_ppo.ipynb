{
 "cells": [
  {
   "cell_type": "markdown",
   "metadata": {},
   "source": [
    "Initialization - import the necessary libararies"
   ]
  },
  {
   "cell_type": "code",
   "execution_count": 1,
   "metadata": {},
   "outputs": [],
   "source": [
    "import os\n",
    "import pandas as pd\n",
    "import matplotlib.pyplot as plt\n",
    "import numpy as np\n",
    "import matplotlib.image as mpimg\n",
    "import ast\n",
    "import math"
   ]
  },
  {
   "cell_type": "markdown",
   "metadata": {},
   "source": [
    "Import current directory"
   ]
  },
  {
   "cell_type": "code",
   "execution_count": 2,
   "metadata": {},
   "outputs": [],
   "source": [
    "def get_project_root():\n",
    "    \"\"\"Returns project root folder.\"\"\"\n",
    "    try:\n",
    "        current_dir = os.path.dirname(os.path.abspath(__file__))\n",
    "        return os.path.dirname(os.path.dirname(current_dir))\n",
    "    except NameError:\n",
    "        return os.path.abspath(os.getcwd())\n",
    "\n",
    "BASE_DIR = get_project_root()"
   ]
  },
  {
   "cell_type": "markdown",
   "metadata": {},
   "source": [
    "Plot Actor Loss and Critic Loss each episode."
   ]
  },
  {
   "cell_type": "code",
   "execution_count": 3,
   "metadata": {},
   "outputs": [],
   "source": [
    "input_dir = os.path.join(BASE_DIR, 'loss')\n",
    "output_dir = os.path.join(input_dir, \"plot\")\n",
    "# Create the output directory if it doesn't exist\n",
    "os.makedirs(output_dir, exist_ok=True)\n",
    "\n",
    "num_file = len([name for name in os.listdir(input_dir) if os.path.isfile(os.path.join(input_dir, name))]) + 1\n",
    "\n",
    "for i in range (1,num_file):\n",
    "    filename = f'PPO Loss episode {i}.csv'\n",
    "    filepath = os.path.join(input_dir, filename)\n",
    "\n",
    "    df = pd.read_csv(filepath)\n",
    "    \n",
    "    fig,(ax1,ax2) = plt.subplots(1,2, figsize=(16,8))\n",
    "    ax1.plot(df['Actor_loss'],'tab:orange')\n",
    "    ax1.set_title(\"Actor Loss\")\n",
    "    ax2.plot(df['Critic_loss'],'tab:green')\n",
    "    ax2.set_title(\"Critic Loss\")\n",
    "    ax1.set(xlabel='Steps',ylabel='loss')\n",
    "    ax2.set(xlabel='Steps',ylabel='loss')\n",
    "    fig.suptitle(f'PPO Update Iteration {i} Losses')\n",
    "    plt.tight_layout()\n",
    "    plt.subplots_adjust(wspace=0.4, top= 0.85)\n",
    "    plt.savefig(os.path.join(output_dir,f'loss_plot_per_ppo_update_iterate_{i}.png'))\n",
    "    plt.clf()\n",
    "    plt.close()\n"
   ]
  },
  {
   "cell_type": "markdown",
   "metadata": {},
   "source": [
    "Calculate Average Actor and Critic Loss"
   ]
  },
  {
   "cell_type": "code",
   "execution_count": 4,
   "metadata": {},
   "outputs": [],
   "source": [
    "input_dir = os.path.join(BASE_DIR, 'loss')\n",
    "output_dir = os.path.join(input_dir, \"avg_Actor_Critic_Loss\")\n",
    "\n",
    "# Create the output directory if it doesn't exist\n",
    "os.makedirs(output_dir, exist_ok=True)\n",
    "\n",
    "all_avg_actor = []\n",
    "all_avg_critic = []\n",
    "\n",
    "num_file = len([name for name in os.listdir(input_dir) if os.path.isfile(os.path.join(input_dir, name))]) + 1\n",
    "\n",
    "for i in range (1,num_file):\n",
    "    filename = f'PPO Loss episode {i}.csv'\n",
    "    filepath = os.path.join(input_dir, filename)\n",
    "\n",
    "    df = pd.read_csv(filepath)\n",
    "    avgLoss_actor = df['Actor_loss'].mean() \n",
    "    avgLoss_critic = df['Critic_loss'].mean()\n",
    "    if (math.isnan(avgLoss_actor)):\n",
    "        avgLoss_actor = 0.0\n",
    "    if (math.isnan(avgLoss_critic)):\n",
    "        avgLoss_critic = 0.0\n",
    "\n",
    "    all_avg_actor.append(avgLoss_actor)\n",
    "    all_avg_critic.append(avgLoss_critic)\n",
    "\n",
    "data = {\n",
    "    'Actor_Loss_avg': all_avg_actor,\n",
    "    'Critic_Loss_avg': all_avg_critic\n",
    "}\n",
    "df = pd.DataFrame(data)\n",
    "file_path = os.path.join(BASE_DIR, 'loss', 'avg_Actor_Critic_Loss', f'avg_loss.csv')\n",
    "df.to_csv(file_path, index='False')\n"
   ]
  },
  {
   "cell_type": "markdown",
   "metadata": {},
   "source": [
    "Plot Average Actor and Critic Loss"
   ]
  },
  {
   "cell_type": "code",
   "execution_count": 12,
   "metadata": {},
   "outputs": [],
   "source": [
    "input_dir = os.path.join(BASE_DIR, 'loss', 'avg_Actor_Critic_Loss')\n",
    "output_dir = os.path.join(input_dir, \"plot_avg_acloss\")\n",
    "# Create the output directory if it doesn't exist\n",
    "os.makedirs(output_dir, exist_ok=True)\n",
    "\n",
    "filename = f'avg_loss.csv'\n",
    "filepath = os.path.join(input_dir, filename)\n",
    "\n",
    "df = pd.read_csv(filepath)\n",
    "\n",
    "window_size = 500\n",
    "\n",
    "fig, (ax1, ax2) = plt.subplots(1, 2, figsize=(16, 6))\n",
    "ax1.plot(df['Actor_Loss_avg'], color = 'blue', marker='^', markersize='4', linestyle='dashed', label='Average Actor Loss(Raw)')\n",
    "ax1.plot(df['Actor_Loss_avg'].rolling(window=window_size).mean(), color = 'green', marker='o', markersize='4', label='Average Actor Loss(500-ep Moving)')\n",
    "ax1.set_title(\"Actor Loss\", fontsize=16)\n",
    "ax1.set_xlabel('Episodes', fontsize=14)\n",
    "ax1.set_ylabel('Loss', fontsize=14)\n",
    "ax1.legend()\n",
    "\n",
    "ax2.plot(df['Critic_Loss_avg'], color = 'red', marker='+', markersize='4', linestyle='dashed', label='Average Critic Loss(Raw)')\n",
    "ax2.plot(df['Critic_Loss_avg'].rolling(window=window_size).mean(), color = 'green', marker='D', markersize='4', label='Average Critic Loss(500-ep Moving)')\n",
    "ax2.set_title(\"Critic Loss\", fontsize=16)\n",
    "ax2.set_xlabel('Episodes', fontsize=14)\n",
    "ax2.set_ylabel('Loss', fontsize=14)\n",
    "ax2.legend()\n",
    "\n",
    "for ax in [ax1, ax2]:\n",
    "    ax.tick_params(axis='both', which='major', labelsize=12)\n",
    "    ax.yaxis.set_label_coords(-0.1, 0.5)  # Adjust y-axis label position\n",
    "plt.savefig(os.path.join(output_dir,f'average_loss_plot.png'))\n",
    "plt.clf()\n",
    "plt.close()"
   ]
  },
  {
   "cell_type": "markdown",
   "metadata": {},
   "source": [
    "Plot Overall and 500-episode moving average Rewards"
   ]
  },
  {
   "cell_type": "code",
   "execution_count": 6,
   "metadata": {},
   "outputs": [],
   "source": [
    "input_dir = os.path.join(BASE_DIR, 'reward')\n",
    "output_dir = os.path.join(input_dir, \"plot\")\n",
    "# Create the output directory if it doesn't exist\n",
    "os.makedirs(output_dir, exist_ok=True)\n",
    "\n",
    "filename = f'reward_plot.csv'\n",
    "filepath = os.path.join(input_dir, filename)\n",
    "\n",
    "df = pd.read_csv(filepath)\n",
    "\n",
    "window_size = 500\n",
    "\n",
    "plt.figure(figsize=(8,6))\n",
    "plt.plot(df['Rewards'], color = 'blue', marker='o', markersize='4', label='raw rewards')\n",
    "plt.plot(df['Rewards'].rolling(window=window_size).mean(), color = 'red', marker='^', markersize='2', label='500-ep moving average')\n",
    "\n",
    "plt.xlabel('Reward')\n",
    "plt.xlabel('Episode')\n",
    "plt.title('REWARDS')\n",
    "plt.legend()\n",
    "plt.savefig(os.path.join(output_dir,f'reward_plot.png'))\n",
    "plt.clf()\n",
    "plt.close()"
   ]
  },
  {
   "cell_type": "markdown",
   "metadata": {},
   "source": [
    "Plot the robot's coordination at each episode"
   ]
  },
  {
   "cell_type": "code",
   "execution_count": 7,
   "metadata": {},
   "outputs": [],
   "source": [
    "input_dir = os.path.join(BASE_DIR, 'coordinates')\n",
    "output_dir = os.path.join(input_dir, \"plot\")\n",
    "image_path = os.path.join(BASE_DIR, 'images', \"4_wheeled_robot_testing_obj_pes2.png\")\n",
    "\n",
    "# Create the output directory if it doesn't exist\n",
    "os.makedirs(output_dir, exist_ok=True)\n",
    "\n",
    "num_file = len([name for name in os.listdir(input_dir) if os.path.isfile(os.path.join(input_dir, name))]) + 1\n",
    "\n",
    "img = mpimg.imread(image_path)\n",
    "\n",
    "def string_to_floats(s):\n",
    "    try:\n",
    "        # Safely evaluate the string as a Python literal\n",
    "        value_list = ast.literal_eval(s)\n",
    "        # Convert to floats and return as a Series\n",
    "        return pd.Series([float(value_list[0]), float(value_list[1]), float(value_list[2]), float(value_list[3])])\n",
    "    except:\n",
    "        # Return NaN values if there's an error\n",
    "        return pd.Series([float('nan'), float('nan'), float('nan'), float('nan')])\n",
    "\n",
    "for i in range (1,num_file):\n",
    "    filename = f'coordinates{i}_plot.csv'\n",
    "    filepath = os.path.join(input_dir, filename)\n",
    "\n",
    "    df = pd.read_csv(filepath)\n",
    "    # print(df)\n",
    "    df[['x_robot','y_robot','x_pedes','y_pedes']] = df['x_y'].apply(string_to_floats)\n",
    "\n",
    "    # print (df['x'], df['y'])\n",
    "    x_ro = df['x_robot']\n",
    "    y_ro = df['y_robot']\n",
    "    x_pe = df['x_pedes']\n",
    "    y_pe = df['y_pedes']\n",
    "\n",
    "    df['x_ro_path'] = (((x_ro - 0.85)/(3.58 - 0.85) * (1000 - 153)) + 153)\n",
    "    df['y_ro_path'] = (((y_ro - (-0.179))/(-0.3 - (-0.179)) * (268 - 227)) + 227)\n",
    "    df['x_pe_path'] = 741\n",
    "    df['y_pe_path'] = (((y_pe - 0.21)/(-0.3 - 0.21) * (288 - 126)) + 126)\n",
    "\n",
    "    x_ro_path = df['x_ro_path'].astype(int)\n",
    "    y_ro_path = df['y_ro_path'].astype(int)\n",
    "    x_pe_path = df['x_pe_path'].astype(int)\n",
    "    y_pe_path = df['y_pe_path'].astype(int)\n",
    "\n",
    "    plt.figure(figsize=(12,8))\n",
    "    plt.plot(x_ro_path.values,y_ro_path.values ,'tab:blue' ,linewidth=5.0)\n",
    "    plt.plot(x_pe_path.values,y_pe_path.values ,'tab:red'  ,linewidth=5.0)\n",
    "    plt.imshow(img)\n",
    "    plt.axis('off')\n",
    "\n",
    "    plt.savefig(os.path.join(output_dir,f'coordinates{i}_plot.png'))\n",
    "    plt.clf()\n",
    "    plt.close()\n"
   ]
  },
  {
   "cell_type": "markdown",
   "metadata": {},
   "source": [
    "Plot the robot's steering angle and distance-to-go at each episode"
   ]
  },
  {
   "cell_type": "code",
   "execution_count": null,
   "metadata": {},
   "outputs": [],
   "source": [
    "input_dir = os.path.join(BASE_DIR, \"state\")\n",
    "output_dir = os.path.join(input_dir, \"plot\")\n",
    "# Create the output directory if it doesn't exist\n",
    "os.makedirs(output_dir, exist_ok=True)\n",
    "\n",
    "num_file = len([name for name in os.listdir(input_dir) if os.path.isfile(os.path.join(input_dir, name))]) + 1\n",
    "\n",
    "def string_to_floats(s):\n",
    "    try:\n",
    "        # Safely evaluate the string as a Python literal\n",
    "        value_list = ast.literal_eval(s)\n",
    "        # Convert to floats and return as a Series\n",
    "        return pd.Series([float(value_list[0]), float(value_list[1]), float(value_list[2]), float(value_list[3]), float(value_list[4]), float(value_list[5]), \n",
    "                          float(value_list[6]), float(value_list[7]), float(value_list[8]), float(value_list[9]), float(value_list[10]), float(value_list[11]), \n",
    "                          float(value_list[12]),  float(value_list[13])])\n",
    "    except:\n",
    "        # Return NaN values if there's an error\n",
    "        return pd.Series([float('nan'), float('nan'), float('nan'), float('nan'), float('nan'), float('nan'), float('nan'), float('nan'), float('nan'), float('nan'), float('nan'), float('nan'), float('nan'), float('nan')])\n",
    "\n",
    "for i in range (1,num_file):\n",
    "    filename = f'transitions{i}_plot.csv'\n",
    "    filepath = os.path.join(input_dir, filename)\n",
    "\n",
    "    df = pd.read_csv(filepath)\n",
    "\n",
    "    df[['x','y','dis','steer', 'velocity', 'dis_r_t', 'dis_r_o', 'dis_r_p','lane_l', 'lane_c', 'lane_r', 'box_detected', 'pedestrian_detected', 'robot_angle']] = df['State'].apply(string_to_floats)\n",
    "\n",
    "    steer = round((df['steer'].astype(float) * 0.5),2)\n",
    "    ppo_dist = df['dis_r_t'].reindex(index=df['dis_r_t'].index[:0:-1])\n",
    "    ppo_tar_dist = 2.733 - (ppo_dist * 3.5)\n",
    "    plt.figure(figsize=(16,8))\n",
    "    fig,(ax1,ax2) = plt.subplots(1,2)\n",
    "    ax1.plot(steer,'tab:orange')\n",
    "    ax1.set_title(\"Steer Angle\")\n",
    "    ax2.plot(ppo_tar_dist,'tab:green')\n",
    "    ax2.set_title(\"Angular Distance\")\n",
    "    ax1.set(xlabel='Episode',ylabel='Steer Angle (radian)')\n",
    "    ax2.set(xlabel='Episode',ylabel='Robot Distance (meters)')\n",
    "    fig.suptitle(f'Robot Steer Angle and Distance Episode {i}')\n",
    "    plt.tight_layout()\n",
    "    plt.subplots_adjust(wspace=0.3, top=0.85)\n",
    "    plt.savefig(os.path.join(output_dir,f'steer_angle_episode {i}.png'))\n",
    "    plt.clf()\n",
    "    plt.close()"
   ]
  }
 ],
 "metadata": {
  "kernelspec": {
   "display_name": "base",
   "language": "python",
   "name": "python3"
  },
  "language_info": {
   "codemirror_mode": {
    "name": "ipython",
    "version": 3
   },
   "file_extension": ".py",
   "mimetype": "text/x-python",
   "name": "python",
   "nbconvert_exporter": "python",
   "pygments_lexer": "ipython3",
   "version": "3.11.9"
  }
 },
 "nbformat": 4,
 "nbformat_minor": 2
}
